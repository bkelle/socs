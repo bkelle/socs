{
 "cells": [
  {
   "cell_type": "markdown",
   "metadata": {},
   "source": [
    "# Code used to test the functionality of sat1_motors_driver.py"
   ]
  },
  {
   "cell_type": "code",
   "execution_count": 1,
   "metadata": {},
   "outputs": [],
   "source": [
    "import sat1_motors_driver as mot"
   ]
  },
  {
   "cell_type": "code",
   "execution_count": 2,
   "metadata": {},
   "outputs": [
    {
     "name": "stdout",
     "output_type": "stream",
     "text": [
      "establishing serial server with motor1!\n",
      "establishing serial server with motor2!\n",
      "b'RS=AR'\n",
      "motor1 not in receive mode.  Resetting.\n",
      "Message was:  b'RS=AR'\n",
      "Alarm message is:  b'AL=0004'\n",
      "Alarm was found. Resetting.\n",
      "b'EG=20000'\n",
      "msg: b'DL=2'\n",
      "b'CC=5'\n",
      "b'RS=R'\n",
      "motor2 in receive mode.\n",
      "b'EG=8000'\n",
      "msg: b'DL=2'\n",
      "b'CC=5'\n"
     ]
    }
   ],
   "source": [
    "motors = mot.MotControl('192.168.0.188', 4001, True, '192.168.0.188', 4002, True)"
   ]
  },
  {
   "cell_type": "code",
   "execution_count": 3,
   "metadata": {},
   "outputs": [
    {
     "name": "stdout",
     "output_type": "stream",
     "text": [
      "Final position:  -30\n",
      "Reached CCW limit switch. Moving 1 inch away from limit switch\n",
      "Resetting alarms\n",
      "Zeroing <MoxaSerial.Serial_TCPServer object at 0x7f574b8b7a60>\n",
      "ePos before stripping: b'EP=0'\n",
      "ePos after: 0\n",
      "0\n",
      "Stage zeroed using limit switch\n",
      "Final position:  -30\n",
      "CCW limit switch hit unexpectedly.\n",
      "Reached CCW limit switch. Moving 1 inch away from limit switch\n",
      "Resetting alarms\n",
      "Zeroing <MoxaSerial.Serial_TCPServer object at 0x7f574b8b7e50>\n",
      "ePos before stripping: b'EP=0'\n",
      "ePos after: 0\n",
      "0\n",
      "Stage zeroed using limit switch\n"
     ]
    }
   ],
   "source": [
    "motors.homeWithLimits(3)"
   ]
  },
  {
   "cell_type": "code",
   "execution_count": 12,
   "metadata": {},
   "outputs": [
    {
     "data": {
      "text/plain": [
       "[23.0]"
      ]
     },
     "execution_count": 12,
     "metadata": {},
     "output_type": "execute_result"
    }
   ],
   "source": [
    "motors.getPositionInInches(2)"
   ]
  },
  {
   "cell_type": "code",
   "execution_count": 5,
   "metadata": {},
   "outputs": [
    {
     "name": "stdout",
     "output_type": "stream",
     "text": [
      "ePos before stripping: b'EP=0'\n",
      "ePos after: 0\n",
      "ePos before stripping: b'EP=0'\n",
      "ePos after: 0\n"
     ]
    },
    {
     "data": {
      "text/plain": [
       "[0, 0]"
      ]
     },
     "execution_count": 5,
     "metadata": {},
     "output_type": "execute_result"
    }
   ],
   "source": [
    "motors.retrieveEncoderInfo()"
   ]
  },
  {
   "cell_type": "code",
   "execution_count": 3,
   "metadata": {},
   "outputs": [
    {
     "name": "stdout",
     "output_type": "stream",
     "text": [
      "Connection to serial controller disconnected.\n"
     ]
    }
   ],
   "source": [
    "motors.closeConnection()"
   ]
  },
  {
   "cell_type": "code",
   "execution_count": null,
   "metadata": {},
   "outputs": [],
   "source": [
    "motors.killAllCommands()"
   ]
  },
  {
   "cell_type": "code",
   "execution_count": 17,
   "metadata": {},
   "outputs": [
    {
     "name": "stdout",
     "output_type": "stream",
     "text": [
      "CW limit switch hit unexpectedly.\n"
     ]
    },
    {
     "data": {
      "text/plain": [
       "True"
      ]
     },
     "execution_count": 17,
     "metadata": {},
     "output_type": "execute_result"
    }
   ],
   "source": [
    "motors.isMoving()"
   ]
  },
  {
   "cell_type": "code",
   "execution_count": 19,
   "metadata": {},
   "outputs": [],
   "source": [
    "motors.resetAlarms()"
   ]
  },
  {
   "cell_type": "code",
   "execution_count": 4,
   "metadata": {},
   "outputs": [
    {
     "name": "stdout",
     "output_type": "stream",
     "text": [
      "Final position:  -1\n"
     ]
    }
   ],
   "source": [
    "motors.moveAxisByLength(1, -1, posIsInches=True)"
   ]
  },
  {
   "cell_type": "code",
   "execution_count": 6,
   "metadata": {},
   "outputs": [],
   "source": [
    "motors.resetAlarms(1)"
   ]
  },
  {
   "cell_type": "code",
   "execution_count": 7,
   "metadata": {},
   "outputs": [
    {
     "name": "stdout",
     "output_type": "stream",
     "text": [
      "Connection to serial controller disconnected.\n"
     ]
    }
   ],
   "source": [
    "motors.closeConnection()"
   ]
  },
  {
   "cell_type": "code",
   "execution_count": null,
   "metadata": {},
   "outputs": [],
   "source": []
  }
 ],
 "metadata": {
  "kernelspec": {
   "display_name": "Python 3",
   "language": "python",
   "name": "python3"
  },
  "language_info": {
   "codemirror_mode": {
    "name": "ipython",
    "version": 3
   },
   "file_extension": ".py",
   "mimetype": "text/x-python",
   "name": "python",
   "nbconvert_exporter": "python",
   "pygments_lexer": "ipython3",
   "version": "3.8.10"
  }
 },
 "nbformat": 4,
 "nbformat_minor": 4
}
