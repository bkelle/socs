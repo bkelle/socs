{
 "cells": [
  {
   "cell_type": "code",
   "execution_count": 36,
   "metadata": {},
   "outputs": [],
   "source": [
    "from ocs import matched_client"
   ]
  },
  {
   "cell_type": "code",
   "execution_count": 37,
   "metadata": {},
   "outputs": [
    {
     "data": {
      "text/plain": [
       "[0,\n",
       " 'Started task \"init\".',\n",
       " {'session_id': 0,\n",
       "  'op_name': 'init',\n",
       "  'status': 'starting',\n",
       "  'start_time': 1593040160.2161462,\n",
       "  'end_time': None,\n",
       "  'success': None,\n",
       "  'data': {},\n",
       "  'messages': [[1593040160.2161462, 'Status is now \"starting\".']]}]"
      ]
     },
     "execution_count": 37,
     "metadata": {},
     "output_type": "execute_result"
    }
   ],
   "source": [
    "rf = matched_client.MatchedClient('agilentrf', args=[])\n",
    "rf.init.start()"
   ]
  },
  {
   "cell_type": "code",
   "execution_count": 38,
   "metadata": {},
   "outputs": [
    {
     "data": {
      "text/plain": [
       "[0,\n",
       " 'Started task \"set_cwFrequency\".',\n",
       " {'session_id': 1,\n",
       "  'op_name': 'set_cwFrequency',\n",
       "  'status': 'starting',\n",
       "  'start_time': 1593040160.7156262,\n",
       "  'end_time': None,\n",
       "  'success': None,\n",
       "  'data': {},\n",
       "  'messages': [[1593040160.7156262, 'Status is now \"starting\".']]}]"
      ]
     },
     "execution_count": 38,
     "metadata": {},
     "output_type": "execute_result"
    }
   ],
   "source": [
    "rf.set_cwFrequency.start(frequency=30000000)"
   ]
  },
  {
   "cell_type": "code",
   "execution_count": 39,
   "metadata": {},
   "outputs": [
    {
     "data": {
      "text/plain": [
       "[0,\n",
       " 'Started task \"set_power\".',\n",
       " {'session_id': 2,\n",
       "  'op_name': 'set_power',\n",
       "  'status': 'starting',\n",
       "  'start_time': 1593040161.374733,\n",
       "  'end_time': None,\n",
       "  'success': None,\n",
       "  'data': {},\n",
       "  'messages': [[1593040161.374733, 'Status is now \"starting\".']]}]"
      ]
     },
     "execution_count": 39,
     "metadata": {},
     "output_type": "execute_result"
    }
   ],
   "source": [
    "rf.set_power.start(power=1)"
   ]
  },
  {
   "cell_type": "code",
   "execution_count": 30,
   "metadata": {},
   "outputs": [
    {
     "data": {
      "text/plain": [
       "[0,\n",
       " 'Started task \"set_output\".',\n",
       " {'session_id': 6,\n",
       "  'op_name': 'set_output',\n",
       "  'status': 'starting',\n",
       "  'start_time': 1593039946.661446,\n",
       "  'end_time': None,\n",
       "  'success': None,\n",
       "  'data': {},\n",
       "  'messages': [[1593039946.661446, 'Status is now \"starting\".']]}]"
      ]
     },
     "execution_count": 30,
     "metadata": {},
     "output_type": "execute_result"
    }
   ],
   "source": [
    "rf.set_output.start(state=True)\n",
    "#rf.set_output.start(state=1)"
   ]
  },
  {
   "cell_type": "code",
   "execution_count": 31,
   "metadata": {},
   "outputs": [
    {
     "data": {
      "text/plain": [
       "[0,\n",
       " 'Started task \"set_output\".',\n",
       " {'session_id': 7,\n",
       "  'op_name': 'set_output',\n",
       "  'status': 'starting',\n",
       "  'start_time': 1593039970.4780984,\n",
       "  'end_time': None,\n",
       "  'success': None,\n",
       "  'data': {},\n",
       "  'messages': [[1593039970.4780984, 'Status is now \"starting\".']]}]"
      ]
     },
     "execution_count": 31,
     "metadata": {},
     "output_type": "execute_result"
    }
   ],
   "source": [
    "rf.set_output.start(state=False)\n",
    "#rf.set_output.start(state=0)"
   ]
  },
  {
   "cell_type": "code",
   "execution_count": null,
   "metadata": {},
   "outputs": [],
   "source": []
  }
 ],
 "metadata": {
  "kernelspec": {
   "display_name": "Python 3",
   "language": "python",
   "name": "python3"
  },
  "language_info": {
   "codemirror_mode": {
    "name": "ipython",
    "version": 3
   },
   "file_extension": ".py",
   "mimetype": "text/x-python",
   "name": "python",
   "nbconvert_exporter": "python",
   "pygments_lexer": "ipython3",
   "version": "3.6.9"
  }
 },
 "nbformat": 4,
 "nbformat_minor": 2
}
